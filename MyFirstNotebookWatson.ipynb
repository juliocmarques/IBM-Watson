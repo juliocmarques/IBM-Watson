{
 "cells": [
  {
   "cell_type": "markdown",
   "metadata": {
    "collapsed": true
   },
   "source": [
    "<h1> My Jupyter Notebook on IBM Watson Studio <h1>"
   ]
  },
  {
   "cell_type": "markdown",
   "metadata": {},
   "source": [
    "<b> JULIO CESAR MARQUES <b/>\n",
    "\n",
    "Data Science "
   ]
  },
  {
   "cell_type": "markdown",
   "metadata": {},
   "source": [
    "<i> Trabalho com SAS a muitos anos, em projetos e ferramentas de Data Analytics e há muita demanda por Cientistas de dados, então resolvi me aprofundar em outras ferramentas e metodos utilizados pelos Cientistas de dados.\n",
    "A Ciência de dados é apaixonante, como descobrir as coisas através dos dados, as ferramentas e metodos utilizados, eu que trabalho com desenvolvimento em outras linguagens e ferramentas muito antes do SAS, consigo unir o útil ao agradável. </i>"
   ]
  },
  {
   "cell_type": "markdown",
   "metadata": {},
   "source": [
    "<h3> Deve mostrar o resultado </h3>"
   ]
  },
  {
   "cell_type": "code",
   "execution_count": 4,
   "metadata": {},
   "outputs": [
    {
     "data": {
      "text/plain": [
       "2"
      ]
     },
     "execution_count": 4,
     "metadata": {},
     "output_type": "execute_result"
    }
   ],
   "source": [
    "1 + 1"
   ]
  },
  {
   "attachments": {
    "home.jpg": {
     "image/jpeg": "[encoded data removed]"
    }
   },
   "cell_type": "markdown",
   "metadata": {},
   "source": [
    "<hr> --- Peixe <hr> --- Ovos <hr> --- Queijo\n",
    "\n",
    "<ol>\n",
    "<li>Peixe</li>\n",
    "<li>Ovos</li>\n",
    "<li>Queijo</li>\n",
    "</ol>\n",
    "\n",
    "<ul>\n",
    "<li>Peixe</li>\n",
    "<li>Ovos</li>\n",
    "<li>Queijo</li>\n",
    "</ul>\n",
    "\n",
    "<a id = \"division_ID\"texto vai aqui></a>\n",
    "<a> href=\" https://www.google.com \" >Link para o Google</a>\n",
    "\n",
    "![home.jpg](attachment:home.jpg)\n",
    "\n",
    "|Name|Address|Salary| \n",
    "|-----|-------|------| \n",
    "|Hanna|Brisbane|4000| \n",
    "|Adam|Sydney|5000|"
   ]
  },
  {
   "cell_type": "code",
   "execution_count": null,
   "metadata": {},
   "outputs": [],
   "source": []
  }
 ],
 "metadata": {
  "kernelspec": {
   "display_name": "Python 3.9",
   "language": "python",
   "name": "python3"
  },
  "language_info": {
   "codemirror_mode": {
    "name": "ipython",
    "version": 3
   },
   "file_extension": ".py",
   "mimetype": "text/x-python",
   "name": "python",
   "nbconvert_exporter": "python",
   "pygments_lexer": "ipython3",
   "version": "3.9.12"
  }
 },
 "nbformat": 4,
 "nbformat_minor": 1
}
